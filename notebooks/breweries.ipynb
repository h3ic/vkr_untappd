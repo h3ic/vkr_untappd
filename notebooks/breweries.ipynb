{
 "cells": [
  {
   "cell_type": "code",
   "execution_count": 1,
   "metadata": {},
   "outputs": [
    {
     "data": {
      "text/plain": [
       "(68989, 8)"
      ]
     },
     "execution_count": 1,
     "metadata": {},
     "output_type": "execute_result"
    }
   ],
   "source": [
    "import pandas as pd\n",
    "import numpy as np\n",
    "from dtypes import breweries_dtypes \n",
    "import seaborn as sns\n",
    "import matplotlib.pyplot as plt\n",
    "sns.set()\n",
    "\n",
    "df = pd.read_csv('../data/breweries.csv', dtype=breweries_dtypes)\n",
    "# df = pd.read_csv('../data/breweries_68k_with_0_beers.csv', dtype=breweries_dtypes)\n",
    "df.shape"
   ]
  },
  {
   "cell_type": "code",
   "execution_count": 2,
   "metadata": {},
   "outputs": [
    {
     "data": {
      "text/plain": [
       "id                 0\n",
       "name               0\n",
       "type               0\n",
       "country            0\n",
       "city           23561\n",
       "lat            23760\n",
       "lng            23760\n",
       "total_beers        0\n",
       "dtype: int64"
      ]
     },
     "execution_count": 2,
     "metadata": {},
     "output_type": "execute_result"
    }
   ],
   "source": [
    "df.isna().sum()"
   ]
  },
  {
   "cell_type": "code",
   "execution_count": 259,
   "metadata": {},
   "outputs": [],
   "source": [
    "df.lat = df.lat.replace(0, np.nan)\n",
    "df.lng = df.lng.replace(0, np.nan)"
   ]
  },
  {
   "cell_type": "code",
   "execution_count": 267,
   "metadata": {},
   "outputs": [],
   "source": [
    "df.to_csv('breweries.csv', index=False)"
   ]
  },
  {
   "cell_type": "code",
   "execution_count": 3,
   "metadata": {},
   "outputs": [
    {
     "data": {
      "text/html": [
       "<div>\n",
       "<style scoped>\n",
       "    .dataframe tbody tr th:only-of-type {\n",
       "        vertical-align: middle;\n",
       "    }\n",
       "\n",
       "    .dataframe tbody tr th {\n",
       "        vertical-align: top;\n",
       "    }\n",
       "\n",
       "    .dataframe thead th {\n",
       "        text-align: right;\n",
       "    }\n",
       "</style>\n",
       "<table border=\"1\" class=\"dataframe\">\n",
       "  <thead>\n",
       "    <tr style=\"text-align: right;\">\n",
       "      <th></th>\n",
       "      <th>id</th>\n",
       "      <th>name</th>\n",
       "      <th>type</th>\n",
       "      <th>country</th>\n",
       "      <th>city</th>\n",
       "      <th>lat</th>\n",
       "      <th>lng</th>\n",
       "      <th>total_beers</th>\n",
       "    </tr>\n",
       "  </thead>\n",
       "  <tbody>\n",
       "    <tr>\n",
       "      <th>7</th>\n",
       "      <td>96252</td>\n",
       "      <td>Spencer Brewery</td>\n",
       "      <td>Micro Brewery</td>\n",
       "      <td>United States</td>\n",
       "      <td>Spencer</td>\n",
       "      <td>42.293701</td>\n",
       "      <td>-71.999603</td>\n",
       "      <td>0</td>\n",
       "    </tr>\n",
       "    <tr>\n",
       "      <th>134</th>\n",
       "      <td>344561</td>\n",
       "      <td>Пивоварня Чаща / Thicket Brewery</td>\n",
       "      <td>Micro Brewery</td>\n",
       "      <td>Russia</td>\n",
       "      <td>Moscow</td>\n",
       "      <td>55.900501</td>\n",
       "      <td>37.529499</td>\n",
       "      <td>0</td>\n",
       "    </tr>\n",
       "    <tr>\n",
       "      <th>309</th>\n",
       "      <td>83471</td>\n",
       "      <td>Schwaben Keller</td>\n",
       "      <td>Brew Pub</td>\n",
       "      <td>Russia</td>\n",
       "      <td>Saint Petersburg</td>\n",
       "      <td>59.958962</td>\n",
       "      <td>30.408640</td>\n",
       "      <td>0</td>\n",
       "    </tr>\n",
       "    <tr>\n",
       "      <th>387</th>\n",
       "      <td>255911</td>\n",
       "      <td>Stone Brewing Berlin</td>\n",
       "      <td>Micro Brewery</td>\n",
       "      <td>Germany</td>\n",
       "      <td>NaN</td>\n",
       "      <td>52.539299</td>\n",
       "      <td>13.408400</td>\n",
       "      <td>0</td>\n",
       "    </tr>\n",
       "    <tr>\n",
       "      <th>635</th>\n",
       "      <td>7167</td>\n",
       "      <td>Tinkoff (Тинькофф)</td>\n",
       "      <td>Brew Pub</td>\n",
       "      <td>Russia</td>\n",
       "      <td>Novosibirsk</td>\n",
       "      <td>55.030899</td>\n",
       "      <td>82.903702</td>\n",
       "      <td>0</td>\n",
       "    </tr>\n",
       "    <tr>\n",
       "      <th>...</th>\n",
       "      <td>...</td>\n",
       "      <td>...</td>\n",
       "      <td>...</td>\n",
       "      <td>...</td>\n",
       "      <td>...</td>\n",
       "      <td>...</td>\n",
       "      <td>...</td>\n",
       "      <td>...</td>\n",
       "    </tr>\n",
       "    <tr>\n",
       "      <th>68981</th>\n",
       "      <td>52532</td>\n",
       "      <td>Barr</td>\n",
       "      <td>Micro Brewery</td>\n",
       "      <td>Scotland</td>\n",
       "      <td>NaN</td>\n",
       "      <td>NaN</td>\n",
       "      <td>NaN</td>\n",
       "      <td>0</td>\n",
       "    </tr>\n",
       "    <tr>\n",
       "      <th>68982</th>\n",
       "      <td>33317</td>\n",
       "      <td>Carters</td>\n",
       "      <td>Micro Brewery</td>\n",
       "      <td>England</td>\n",
       "      <td>NaN</td>\n",
       "      <td>NaN</td>\n",
       "      <td>NaN</td>\n",
       "      <td>0</td>\n",
       "    </tr>\n",
       "    <tr>\n",
       "      <th>68983</th>\n",
       "      <td>14894</td>\n",
       "      <td>James Fenwicks</td>\n",
       "      <td>Micro Brewery</td>\n",
       "      <td>United States</td>\n",
       "      <td>NaN</td>\n",
       "      <td>NaN</td>\n",
       "      <td>NaN</td>\n",
       "      <td>0</td>\n",
       "    </tr>\n",
       "    <tr>\n",
       "      <th>68984</th>\n",
       "      <td>29701</td>\n",
       "      <td>Barq's</td>\n",
       "      <td>Micro Brewery</td>\n",
       "      <td>United States</td>\n",
       "      <td>NaN</td>\n",
       "      <td>NaN</td>\n",
       "      <td>NaN</td>\n",
       "      <td>0</td>\n",
       "    </tr>\n",
       "    <tr>\n",
       "      <th>68986</th>\n",
       "      <td>17501</td>\n",
       "      <td>White Brewing Company</td>\n",
       "      <td>Micro Brewery</td>\n",
       "      <td>England</td>\n",
       "      <td>Bexhill</td>\n",
       "      <td>50.849899</td>\n",
       "      <td>0.466207</td>\n",
       "      <td>0</td>\n",
       "    </tr>\n",
       "  </tbody>\n",
       "</table>\n",
       "<p>6634 rows × 8 columns</p>\n",
       "</div>"
      ],
      "text/plain": [
       "           id                              name           type        country  \\\n",
       "7       96252                   Spencer Brewery  Micro Brewery  United States   \n",
       "134    344561  Пивоварня Чаща / Thicket Brewery  Micro Brewery         Russia   \n",
       "309     83471                   Schwaben Keller       Brew Pub         Russia   \n",
       "387    255911              Stone Brewing Berlin  Micro Brewery        Germany   \n",
       "635      7167                Tinkoff (Тинькофф)       Brew Pub         Russia   \n",
       "...       ...                               ...            ...            ...   \n",
       "68981   52532                              Barr  Micro Brewery       Scotland   \n",
       "68982   33317                           Carters  Micro Brewery        England   \n",
       "68983   14894                    James Fenwicks  Micro Brewery  United States   \n",
       "68984   29701                            Barq's  Micro Brewery  United States   \n",
       "68986   17501             White Brewing Company  Micro Brewery        England   \n",
       "\n",
       "                   city        lat        lng  total_beers  \n",
       "7               Spencer  42.293701 -71.999603            0  \n",
       "134              Moscow  55.900501  37.529499            0  \n",
       "309    Saint Petersburg  59.958962  30.408640            0  \n",
       "387                 NaN  52.539299  13.408400            0  \n",
       "635         Novosibirsk  55.030899  82.903702            0  \n",
       "...                 ...        ...        ...          ...  \n",
       "68981               NaN        NaN        NaN            0  \n",
       "68982               NaN        NaN        NaN            0  \n",
       "68983               NaN        NaN        NaN            0  \n",
       "68984               NaN        NaN        NaN            0  \n",
       "68986           Bexhill  50.849899   0.466207            0  \n",
       "\n",
       "[6634 rows x 8 columns]"
      ]
     },
     "execution_count": 3,
     "metadata": {},
     "output_type": "execute_result"
    }
   ],
   "source": [
    "df[df.total_beers == 0]"
   ]
  },
  {
   "cell_type": "code",
   "execution_count": 246,
   "metadata": {},
   "outputs": [],
   "source": [
    "df_rus = df[df.country == 'Russia']\n",
    "df_usa = df[df.country == 'United States']"
   ]
  },
  {
   "cell_type": "code",
   "execution_count": 247,
   "metadata": {},
   "outputs": [
    {
     "data": {
      "text/plain": [
       "count    3511.000000\n",
       "mean       12.582170\n",
       "std        28.472709\n",
       "min         1.000000\n",
       "25%         2.000000\n",
       "50%         5.000000\n",
       "75%        11.000000\n",
       "max       605.000000\n",
       "Name: total_beers, dtype: float64"
      ]
     },
     "execution_count": 247,
     "metadata": {},
     "output_type": "execute_result"
    }
   ],
   "source": [
    "df_rus.total_beers.describe()"
   ]
  },
  {
   "cell_type": "code",
   "execution_count": 236,
   "metadata": {},
   "outputs": [
    {
     "data": {
      "text/plain": [
       "count    17840.000000\n",
       "mean        80.496581\n",
       "std        143.912325\n",
       "min          1.000000\n",
       "25%          5.000000\n",
       "50%         28.000000\n",
       "75%         96.000000\n",
       "max       4635.000000\n",
       "Name: total_beers, dtype: float64"
      ]
     },
     "execution_count": 236,
     "metadata": {},
     "output_type": "execute_result"
    }
   ],
   "source": [
    "df_usa.total_beers.describe()"
   ]
  },
  {
   "cell_type": "code",
   "execution_count": 264,
   "metadata": {},
   "outputs": [],
   "source": [
    "cities_map = {\n",
    "'Москва': 'Moscow',\n",
    "'Moskva': 'Moscow',\n",
    "'Санкт-Петербург': 'Saint Petersburg',\n",
    "'Saint-Petersburg': 'Saint Petersburg',\n",
    "'Sankt-Peterburg': 'Saint Petersburg',\n",
    "'Новосибирск': 'Novosibirsk',\n",
    "'Краснодар': 'Krasnodar',\n",
    "'Челябинск': 'Chelyabinsk',\n",
    "'Екатеринбург': 'Yekaterinburg',\n",
    "'Ростов-на-Дону': 'Rostov-on-Don',\n",
    "'Калининград': 'Kaliningrad',\n",
    "'Барнаул': 'Barnaul',\n",
    "'Нижний Новгород': 'Nizhny Novgorod',\n",
    "'Воронеж': 'Voronezh',\n",
    "'Самара': 'Samara',\n",
    "'Омск': 'Omsk',\n",
    "'Красноярск': 'Krasnoyarsk',\n",
    "'Кемерово': 'Kemerovo',\n",
    "'Волгоград': 'Volgograd',\n",
    "'Пермь': 'Perm',\n",
    "'Тольятти': 'Tolyatti',\n",
    "'Сочи': 'Sochi',\n",
    "'Владивосток': 'Vladivostok',\n",
    "'Ижевск': 'Izhevsk',\n",
    "'Иркутск': 'Irkutsk',\n",
    "'Липецк': 'Lipetsk',\n",
    "'Псков': 'Pskov',\n",
    "'Томск': 'Tomsk',\n",
    "'Петрозаводск': 'Petrozavodsk',\n",
    "}"
   ]
  },
  {
   "cell_type": "code",
   "execution_count": 265,
   "metadata": {},
   "outputs": [],
   "source": [
    "df['city'] = df.city.replace(cities_map)"
   ]
  },
  {
   "cell_type": "code",
   "execution_count": 197,
   "metadata": {},
   "outputs": [
    {
     "data": {
      "text/plain": [
       "False"
      ]
     },
     "execution_count": 197,
     "metadata": {},
     "output_type": "execute_result"
    }
   ],
   "source": [
    "'Zarayskiy' in df_rus.city.value_counts()"
   ]
  },
  {
   "cell_type": "code",
   "execution_count": null,
   "metadata": {},
   "outputs": [],
   "source": []
  }
 ],
 "metadata": {
  "kernelspec": {
   "display_name": "tip",
   "language": "python",
   "name": "python3"
  },
  "language_info": {
   "codemirror_mode": {
    "name": "ipython",
    "version": 3
   },
   "file_extension": ".py",
   "mimetype": "text/x-python",
   "name": "python",
   "nbconvert_exporter": "python",
   "pygments_lexer": "ipython3",
   "version": "3.10.8"
  },
  "orig_nbformat": 4,
  "vscode": {
   "interpreter": {
    "hash": "a4742bdb95c61f07b41efcb0629a17e6021c67c11b36603422976b6a87b48c32"
   }
  }
 },
 "nbformat": 4,
 "nbformat_minor": 2
}
