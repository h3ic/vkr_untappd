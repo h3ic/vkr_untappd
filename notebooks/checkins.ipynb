{
 "cells": [
  {
   "cell_type": "code",
   "execution_count": 1,
   "metadata": {},
   "outputs": [],
   "source": [
    "import pandas as pd\n",
    "import numpy as np\n",
    "import seaborn as sns\n",
    "from dtypes import users_beers_dtype, beers_dtype\n",
    "import matplotlib.pyplot as plt"
   ]
  },
  {
   "cell_type": "code",
   "execution_count": 2,
   "metadata": {},
   "outputs": [
    {
     "data": {
      "text/plain": [
       "(3797614, 30)"
      ]
     },
     "execution_count": 2,
     "metadata": {},
     "output_type": "execute_result"
    }
   ],
   "source": [
    "df = pd.read_csv('../seems_garbage/checkins_large.csv')\n",
    "df.shape"
   ]
  },
  {
   "cell_type": "code",
   "execution_count": 2,
   "metadata": {},
   "outputs": [
    {
     "data": {
      "text/plain": [
       "(3797614, 11)"
      ]
     },
     "execution_count": 2,
     "metadata": {},
     "output_type": "execute_result"
    }
   ],
   "source": [
    "df = pd.read_csv('../data/checkins.csv')\n",
    "df.shape"
   ]
  },
  {
   "cell_type": "code",
   "execution_count": null,
   "metadata": {},
   "outputs": [],
   "source": [
    "df[df.category == 'Restaurant']"
   ]
  },
  {
   "cell_type": "code",
   "execution_count": null,
   "metadata": {},
   "outputs": [],
   "source": [
    "df.categonunique()"
   ]
  },
  {
   "cell_type": "code",
   "execution_count": null,
   "metadata": {},
   "outputs": [],
   "source": []
  },
  {
   "cell_type": "code",
   "execution_count": 3,
   "metadata": {},
   "outputs": [
    {
     "data": {
      "text/html": [
       "<div>\n",
       "<style scoped>\n",
       "    .dataframe tbody tr th:only-of-type {\n",
       "        vertical-align: middle;\n",
       "    }\n",
       "\n",
       "    .dataframe tbody tr th {\n",
       "        vertical-align: top;\n",
       "    }\n",
       "\n",
       "    .dataframe thead th {\n",
       "        text-align: right;\n",
       "    }\n",
       "</style>\n",
       "<table border=\"1\" class=\"dataframe\">\n",
       "  <thead>\n",
       "    <tr style=\"text-align: right;\">\n",
       "      <th></th>\n",
       "      <th>id</th>\n",
       "      <th>created_at</th>\n",
       "      <th>comment</th>\n",
       "      <th>score</th>\n",
       "      <th>user_name</th>\n",
       "      <th>user_location</th>\n",
       "      <th>beer_id</th>\n",
       "      <th>beer_name</th>\n",
       "      <th>beer_style</th>\n",
       "      <th>beer_abv</th>\n",
       "      <th>...</th>\n",
       "      <th>venue_lat</th>\n",
       "      <th>venue_lng</th>\n",
       "      <th>venue_primary_category</th>\n",
       "      <th>venue_category</th>\n",
       "      <th>retail_venue_id</th>\n",
       "      <th>retail_venue_lat</th>\n",
       "      <th>retail_venue_lng</th>\n",
       "      <th>retail_venue_primary_category</th>\n",
       "      <th>retail_venue_category</th>\n",
       "      <th>venue_country</th>\n",
       "    </tr>\n",
       "  </thead>\n",
       "  <tbody>\n",
       "    <tr>\n",
       "      <th>0</th>\n",
       "      <td>1250498081</td>\n",
       "      <td>Fri, 24 Feb 2023 12:53:21 +0000</td>\n",
       "      <td>Лайтовый пилснер. Как альтернатива лайону - хо...</td>\n",
       "      <td>3.00</td>\n",
       "      <td>Lotry</td>\n",
       "      <td>Saint Petersburg/Orel</td>\n",
       "      <td>20825</td>\n",
       "      <td>Anchor Smooth</td>\n",
       "      <td>Pilsner - Other</td>\n",
       "      <td>4.0</td>\n",
       "      <td>...</td>\n",
       "      <td>6.871094</td>\n",
       "      <td>79.882347</td>\n",
       "      <td>Travel &amp; Transport</td>\n",
       "      <td>Hotel</td>\n",
       "      <td>NaN</td>\n",
       "      <td>NaN</td>\n",
       "      <td>NaN</td>\n",
       "      <td>NaN</td>\n",
       "      <td>NaN</td>\n",
       "      <td>ශ්‍රී ලංකාව</td>\n",
       "    </tr>\n",
       "    <tr>\n",
       "      <th>1</th>\n",
       "      <td>1250117150</td>\n",
       "      <td>Wed, 22 Feb 2023 17:27:54 +0000</td>\n",
       "      <td>NaN</td>\n",
       "      <td>3.00</td>\n",
       "      <td>Lotry</td>\n",
       "      <td>Saint Petersburg/Orel</td>\n",
       "      <td>4699736</td>\n",
       "      <td>Bison Stout</td>\n",
       "      <td>Stout - Imperial / Double</td>\n",
       "      <td>8.8</td>\n",
       "      <td>...</td>\n",
       "      <td>5.947158</td>\n",
       "      <td>80.459465</td>\n",
       "      <td>Residence</td>\n",
       "      <td>Housing Development</td>\n",
       "      <td>NaN</td>\n",
       "      <td>NaN</td>\n",
       "      <td>NaN</td>\n",
       "      <td>NaN</td>\n",
       "      <td>NaN</td>\n",
       "      <td>ශ්‍රී ලංකාව</td>\n",
       "    </tr>\n",
       "    <tr>\n",
       "      <th>2</th>\n",
       "      <td>1246023704</td>\n",
       "      <td>Tue, 07 Feb 2023 08:26:43 +0000</td>\n",
       "      <td>NaN</td>\n",
       "      <td>3.25</td>\n",
       "      <td>Lotry</td>\n",
       "      <td>Saint Petersburg/Orel</td>\n",
       "      <td>37408</td>\n",
       "      <td>Lion Lager</td>\n",
       "      <td>Lager - Pale</td>\n",
       "      <td>4.8</td>\n",
       "      <td>...</td>\n",
       "      <td>5.941477</td>\n",
       "      <td>80.462021</td>\n",
       "      <td>Outdoors &amp; Recreation</td>\n",
       "      <td>Other Great Outdoors</td>\n",
       "      <td>NaN</td>\n",
       "      <td>NaN</td>\n",
       "      <td>NaN</td>\n",
       "      <td>NaN</td>\n",
       "      <td>NaN</td>\n",
       "      <td>ශ්‍රී ලංකාව</td>\n",
       "    </tr>\n",
       "    <tr>\n",
       "      <th>3</th>\n",
       "      <td>1244331790</td>\n",
       "      <td>Wed, 01 Feb 2023 12:06:37 +0000</td>\n",
       "      <td>NaN</td>\n",
       "      <td>3.25</td>\n",
       "      <td>Lotry</td>\n",
       "      <td>Saint Petersburg/Orel</td>\n",
       "      <td>3514381</td>\n",
       "      <td>Special Brew (Sri Lanka)</td>\n",
       "      <td>Pilsner - Imperial / Double</td>\n",
       "      <td>8.8</td>\n",
       "      <td>...</td>\n",
       "      <td>5.943264</td>\n",
       "      <td>80.461929</td>\n",
       "      <td>Residence</td>\n",
       "      <td>Housing Development</td>\n",
       "      <td>NaN</td>\n",
       "      <td>NaN</td>\n",
       "      <td>NaN</td>\n",
       "      <td>NaN</td>\n",
       "      <td>NaN</td>\n",
       "      <td>ශ්‍රී ලංකාව</td>\n",
       "    </tr>\n",
       "    <tr>\n",
       "      <th>4</th>\n",
       "      <td>1243785491</td>\n",
       "      <td>Sun, 29 Jan 2023 07:45:25 +0000</td>\n",
       "      <td>NaN</td>\n",
       "      <td>3.00</td>\n",
       "      <td>Lotry</td>\n",
       "      <td>Saint Petersburg/Orel</td>\n",
       "      <td>2825795</td>\n",
       "      <td>Danish Pilsner</td>\n",
       "      <td>Pilsner - Other</td>\n",
       "      <td>4.6</td>\n",
       "      <td>...</td>\n",
       "      <td>5.941534</td>\n",
       "      <td>80.455315</td>\n",
       "      <td>Nightlife Spot</td>\n",
       "      <td>Nightclub</td>\n",
       "      <td>NaN</td>\n",
       "      <td>NaN</td>\n",
       "      <td>NaN</td>\n",
       "      <td>NaN</td>\n",
       "      <td>NaN</td>\n",
       "      <td>ශ්‍රී ලංකාව</td>\n",
       "    </tr>\n",
       "  </tbody>\n",
       "</table>\n",
       "<p>5 rows × 30 columns</p>\n",
       "</div>"
      ],
      "text/plain": [
       "           id                       created_at  \\\n",
       "0  1250498081  Fri, 24 Feb 2023 12:53:21 +0000   \n",
       "1  1250117150  Wed, 22 Feb 2023 17:27:54 +0000   \n",
       "2  1246023704  Tue, 07 Feb 2023 08:26:43 +0000   \n",
       "3  1244331790  Wed, 01 Feb 2023 12:06:37 +0000   \n",
       "4  1243785491  Sun, 29 Jan 2023 07:45:25 +0000   \n",
       "\n",
       "                                             comment  score user_name  \\\n",
       "0  Лайтовый пилснер. Как альтернатива лайону - хо...   3.00     Lotry   \n",
       "1                                                NaN   3.00     Lotry   \n",
       "2                                                NaN   3.25     Lotry   \n",
       "3                                                NaN   3.25     Lotry   \n",
       "4                                                NaN   3.00     Lotry   \n",
       "\n",
       "           user_location  beer_id                 beer_name  \\\n",
       "0  Saint Petersburg/Orel    20825             Anchor Smooth   \n",
       "1  Saint Petersburg/Orel  4699736               Bison Stout   \n",
       "2  Saint Petersburg/Orel    37408                Lion Lager   \n",
       "3  Saint Petersburg/Orel  3514381  Special Brew (Sri Lanka)   \n",
       "4  Saint Petersburg/Orel  2825795            Danish Pilsner   \n",
       "\n",
       "                    beer_style  beer_abv  ...  venue_lat  venue_lng  \\\n",
       "0              Pilsner - Other       4.0  ...   6.871094  79.882347   \n",
       "1    Stout - Imperial / Double       8.8  ...   5.947158  80.459465   \n",
       "2                 Lager - Pale       4.8  ...   5.941477  80.462021   \n",
       "3  Pilsner - Imperial / Double       8.8  ...   5.943264  80.461929   \n",
       "4              Pilsner - Other       4.6  ...   5.941534  80.455315   \n",
       "\n",
       "  venue_primary_category        venue_category retail_venue_id  \\\n",
       "0     Travel & Transport                 Hotel             NaN   \n",
       "1              Residence   Housing Development             NaN   \n",
       "2  Outdoors & Recreation  Other Great Outdoors             NaN   \n",
       "3              Residence   Housing Development             NaN   \n",
       "4         Nightlife Spot             Nightclub             NaN   \n",
       "\n",
       "   retail_venue_lat  retail_venue_lng retail_venue_primary_category  \\\n",
       "0               NaN               NaN                           NaN   \n",
       "1               NaN               NaN                           NaN   \n",
       "2               NaN               NaN                           NaN   \n",
       "3               NaN               NaN                           NaN   \n",
       "4               NaN               NaN                           NaN   \n",
       "\n",
       "   retail_venue_category  venue_country  \n",
       "0                    NaN    ශ්‍රී ලංකාව  \n",
       "1                    NaN    ශ්‍රී ලංකාව  \n",
       "2                    NaN    ශ්‍රී ලංකාව  \n",
       "3                    NaN    ශ්‍රී ලංකාව  \n",
       "4                    NaN    ශ්‍රී ලංකාව  \n",
       "\n",
       "[5 rows x 30 columns]"
      ]
     },
     "execution_count": 3,
     "metadata": {},
     "output_type": "execute_result"
    }
   ],
   "source": [
    "df.head()"
   ]
  },
  {
   "cell_type": "code",
   "execution_count": 4,
   "metadata": {},
   "outputs": [
    {
     "data": {
      "text/plain": [
       "Index(['id', 'created_at', 'comment', 'score', 'user_name', 'user_location',\n",
       "       'beer_id', 'beer_name', 'beer_style', 'beer_abv', 'beer_active',\n",
       "       'brewery_id', 'brewery_name', 'brewery_type', 'brewery_country',\n",
       "       'brewery_lat', 'brewery_lng', 'language', 'container', 'venue_id',\n",
       "       'venue_lat', 'venue_lng', 'venue_primary_category', 'venue_category',\n",
       "       'retail_venue_id', 'retail_venue_lat', 'retail_venue_lng',\n",
       "       'retail_venue_primary_category', 'retail_venue_category',\n",
       "       'venue_country'],\n",
       "      dtype='object')"
      ]
     },
     "execution_count": 4,
     "metadata": {},
     "output_type": "execute_result"
    }
   ],
   "source": [
    "df.columns"
   ]
  },
  {
   "cell_type": "code",
   "execution_count": 4,
   "metadata": {},
   "outputs": [
    {
     "data": {
      "text/plain": [
       "(3797614, 11)"
      ]
     },
     "execution_count": 4,
     "metadata": {},
     "output_type": "execute_result"
    }
   ],
   "source": [
    "df = pd.read_csv('../data/checkins.csv')\n",
    "df.shape"
   ]
  },
  {
   "cell_type": "code",
   "execution_count": 5,
   "metadata": {},
   "outputs": [
    {
     "data": {
      "text/plain": [
       "(11664, 14)"
      ]
     },
     "execution_count": 5,
     "metadata": {},
     "output_type": "execute_result"
    }
   ],
   "source": [
    "users_df = pd.read_csv('../data/users.csv')\n",
    "users_df.shape"
   ]
  },
  {
   "cell_type": "code",
   "execution_count": null,
   "metadata": {},
   "outputs": [
    {
     "data": {
      "text/plain": [
       "id                        0\n",
       "user_name                 0\n",
       "first_name                2\n",
       "last_name              1869\n",
       "location               5851\n",
       "bio                    7877\n",
       "total_badges              0\n",
       "total_friends             0\n",
       "total_checkins            0\n",
       "total_beers               0\n",
       "total_created_beers       0\n",
       "total_photos              0\n",
       "date_joined               0\n",
       "dtype: int64"
      ]
     },
     "execution_count": 5,
     "metadata": {},
     "output_type": "execute_result"
    }
   ],
   "source": [
    "users_df.isna().sum()"
   ]
  },
  {
   "cell_type": "code",
   "execution_count": null,
   "metadata": {},
   "outputs": [
    {
     "data": {
      "text/plain": [
       "id                       0\n",
       "created_at               0\n",
       "comment            2229258\n",
       "score                    0\n",
       "user_name                0\n",
       "beer_id                  0\n",
       "brewery_id               0\n",
       "language           2483637\n",
       "container           588559\n",
       "venue_id            844997\n",
       "retail_venue_id    2184611\n",
       "dtype: int64"
      ]
     },
     "execution_count": 4,
     "metadata": {},
     "output_type": "execute_result"
    }
   ],
   "source": [
    "df.isna().sum()"
   ]
  },
  {
   "cell_type": "code",
   "execution_count": null,
   "metadata": {},
   "outputs": [
    {
     "data": {
      "text/plain": [
       "(3797614, 11)"
      ]
     },
     "execution_count": 6,
     "metadata": {},
     "output_type": "execute_result"
    }
   ],
   "source": [
    "df.shape"
   ]
  },
  {
   "cell_type": "code",
   "execution_count": null,
   "metadata": {},
   "outputs": [
    {
     "data": {
      "text/html": [
       "<div>\n",
       "<style scoped>\n",
       "    .dataframe tbody tr th:only-of-type {\n",
       "        vertical-align: middle;\n",
       "    }\n",
       "\n",
       "    .dataframe tbody tr th {\n",
       "        vertical-align: top;\n",
       "    }\n",
       "\n",
       "    .dataframe thead th {\n",
       "        text-align: right;\n",
       "    }\n",
       "</style>\n",
       "<table border=\"1\" class=\"dataframe\">\n",
       "  <thead>\n",
       "    <tr style=\"text-align: right;\">\n",
       "      <th></th>\n",
       "      <th>id</th>\n",
       "      <th>created_at</th>\n",
       "      <th>comment</th>\n",
       "      <th>score</th>\n",
       "      <th>user_name</th>\n",
       "      <th>beer_id</th>\n",
       "      <th>brewery_id</th>\n",
       "      <th>language</th>\n",
       "      <th>container</th>\n",
       "      <th>venue_id</th>\n",
       "      <th>retail_venue_id</th>\n",
       "    </tr>\n",
       "  </thead>\n",
       "  <tbody>\n",
       "    <tr>\n",
       "      <th>0</th>\n",
       "      <td>1250498081</td>\n",
       "      <td>Fri, 24 Feb 2023 12:53:21 +0000</td>\n",
       "      <td>Лайтовый пилснер. Как альтернатива лайону - хо...</td>\n",
       "      <td>3.00</td>\n",
       "      <td>Lotry</td>\n",
       "      <td>20825</td>\n",
       "      <td>3097</td>\n",
       "      <td>ru</td>\n",
       "      <td>1.0</td>\n",
       "      <td>11827219.0</td>\n",
       "      <td>NaN</td>\n",
       "    </tr>\n",
       "    <tr>\n",
       "      <th>1</th>\n",
       "      <td>1250117150</td>\n",
       "      <td>Wed, 22 Feb 2023 17:27:54 +0000</td>\n",
       "      <td>NaN</td>\n",
       "      <td>3.00</td>\n",
       "      <td>Lotry</td>\n",
       "      <td>4699736</td>\n",
       "      <td>428719</td>\n",
       "      <td>NaN</td>\n",
       "      <td>1.0</td>\n",
       "      <td>6009518.0</td>\n",
       "      <td>NaN</td>\n",
       "    </tr>\n",
       "    <tr>\n",
       "      <th>2</th>\n",
       "      <td>1246023704</td>\n",
       "      <td>Tue, 07 Feb 2023 08:26:43 +0000</td>\n",
       "      <td>NaN</td>\n",
       "      <td>3.25</td>\n",
       "      <td>Lotry</td>\n",
       "      <td>37408</td>\n",
       "      <td>791</td>\n",
       "      <td>NaN</td>\n",
       "      <td>3.0</td>\n",
       "      <td>8836873.0</td>\n",
       "      <td>NaN</td>\n",
       "    </tr>\n",
       "    <tr>\n",
       "      <th>3</th>\n",
       "      <td>1244331790</td>\n",
       "      <td>Wed, 01 Feb 2023 12:06:37 +0000</td>\n",
       "      <td>NaN</td>\n",
       "      <td>3.25</td>\n",
       "      <td>Lotry</td>\n",
       "      <td>3514381</td>\n",
       "      <td>791</td>\n",
       "      <td>NaN</td>\n",
       "      <td>1.0</td>\n",
       "      <td>11795342.0</td>\n",
       "      <td>NaN</td>\n",
       "    </tr>\n",
       "    <tr>\n",
       "      <th>4</th>\n",
       "      <td>1243785491</td>\n",
       "      <td>Sun, 29 Jan 2023 07:45:25 +0000</td>\n",
       "      <td>NaN</td>\n",
       "      <td>3.00</td>\n",
       "      <td>Lotry</td>\n",
       "      <td>2825795</td>\n",
       "      <td>344</td>\n",
       "      <td>NaN</td>\n",
       "      <td>NaN</td>\n",
       "      <td>8684100.0</td>\n",
       "      <td>NaN</td>\n",
       "    </tr>\n",
       "  </tbody>\n",
       "</table>\n",
       "</div>"
      ],
      "text/plain": [
       "           id                       created_at  \\\n",
       "0  1250498081  Fri, 24 Feb 2023 12:53:21 +0000   \n",
       "1  1250117150  Wed, 22 Feb 2023 17:27:54 +0000   \n",
       "2  1246023704  Tue, 07 Feb 2023 08:26:43 +0000   \n",
       "3  1244331790  Wed, 01 Feb 2023 12:06:37 +0000   \n",
       "4  1243785491  Sun, 29 Jan 2023 07:45:25 +0000   \n",
       "\n",
       "                                             comment  score user_name  \\\n",
       "0  Лайтовый пилснер. Как альтернатива лайону - хо...   3.00     Lotry   \n",
       "1                                                NaN   3.00     Lotry   \n",
       "2                                                NaN   3.25     Lotry   \n",
       "3                                                NaN   3.25     Lotry   \n",
       "4                                                NaN   3.00     Lotry   \n",
       "\n",
       "   beer_id  brewery_id language  container    venue_id  retail_venue_id  \n",
       "0    20825        3097       ru        1.0  11827219.0              NaN  \n",
       "1  4699736      428719      NaN        1.0   6009518.0              NaN  \n",
       "2    37408         791      NaN        3.0   8836873.0              NaN  \n",
       "3  3514381         791      NaN        1.0  11795342.0              NaN  \n",
       "4  2825795         344      NaN        NaN   8684100.0              NaN  "
      ]
     },
     "execution_count": 5,
     "metadata": {},
     "output_type": "execute_result"
    }
   ],
   "source": [
    "df.head()"
   ]
  },
  {
   "cell_type": "code",
   "execution_count": null,
   "metadata": {},
   "outputs": [],
   "source": [
    "df['created_at_datetime'] = pd.to_datetime(df['created_at'], format='%a, %d %b %Y %H:%M:%S %z')"
   ]
  },
  {
   "cell_type": "code",
   "execution_count": null,
   "metadata": {},
   "outputs": [],
   "source": [
    "df['day_of_week'] = df.created_at_datetime.dt.day_name()\n",
    "df['month'] = df.created_at_datetime.dt.month_name()\n",
    "df['hour'] = df.created_at_datetime.dt.hour\n",
    "df['day_of_month'] = df.created_at_datetime.dt.day"
   ]
  },
  {
   "cell_type": "code",
   "execution_count": null,
   "metadata": {},
   "outputs": [],
   "source": [
    "# df['year'] = df.created_at_datetime.dt.year\n",
    "df['quarter'] = df.created_at_datetime.dt.quarter"
   ]
  },
  {
   "cell_type": "code",
   "execution_count": null,
   "metadata": {},
   "outputs": [
    {
     "data": {
      "text/html": [
       "<div>\n",
       "<style scoped>\n",
       "    .dataframe tbody tr th:only-of-type {\n",
       "        vertical-align: middle;\n",
       "    }\n",
       "\n",
       "    .dataframe tbody tr th {\n",
       "        vertical-align: top;\n",
       "    }\n",
       "\n",
       "    .dataframe thead th {\n",
       "        text-align: right;\n",
       "    }\n",
       "</style>\n",
       "<table border=\"1\" class=\"dataframe\">\n",
       "  <thead>\n",
       "    <tr style=\"text-align: right;\">\n",
       "      <th></th>\n",
       "      <th>id</th>\n",
       "      <th>created_at</th>\n",
       "      <th>comment</th>\n",
       "      <th>score</th>\n",
       "      <th>user_name</th>\n",
       "      <th>beer_id</th>\n",
       "      <th>brewery_id</th>\n",
       "      <th>language</th>\n",
       "      <th>container</th>\n",
       "      <th>venue_id</th>\n",
       "      <th>retail_venue_id</th>\n",
       "      <th>created_at_datetime</th>\n",
       "      <th>day_of_week</th>\n",
       "      <th>month</th>\n",
       "      <th>hour</th>\n",
       "      <th>day_of_month</th>\n",
       "      <th>year</th>\n",
       "      <th>month_year</th>\n",
       "      <th>quarter</th>\n",
       "    </tr>\n",
       "  </thead>\n",
       "  <tbody>\n",
       "    <tr>\n",
       "      <th>0</th>\n",
       "      <td>1250498081</td>\n",
       "      <td>Fri, 24 Feb 2023 12:53:21 +0000</td>\n",
       "      <td>Лайтовый пилснер. Как альтернатива лайону - хо...</td>\n",
       "      <td>3.00</td>\n",
       "      <td>Lotry</td>\n",
       "      <td>20825</td>\n",
       "      <td>3097</td>\n",
       "      <td>ru</td>\n",
       "      <td>1.0</td>\n",
       "      <td>11827219.0</td>\n",
       "      <td>NaN</td>\n",
       "      <td>2023-02-24 12:53:21+00:00</td>\n",
       "      <td>Friday</td>\n",
       "      <td>February</td>\n",
       "      <td>12</td>\n",
       "      <td>24</td>\n",
       "      <td>2023</td>\n",
       "      <td>February2023</td>\n",
       "      <td>1</td>\n",
       "    </tr>\n",
       "    <tr>\n",
       "      <th>1</th>\n",
       "      <td>1250117150</td>\n",
       "      <td>Wed, 22 Feb 2023 17:27:54 +0000</td>\n",
       "      <td>NaN</td>\n",
       "      <td>3.00</td>\n",
       "      <td>Lotry</td>\n",
       "      <td>4699736</td>\n",
       "      <td>428719</td>\n",
       "      <td>NaN</td>\n",
       "      <td>1.0</td>\n",
       "      <td>6009518.0</td>\n",
       "      <td>NaN</td>\n",
       "      <td>2023-02-22 17:27:54+00:00</td>\n",
       "      <td>Wednesday</td>\n",
       "      <td>February</td>\n",
       "      <td>17</td>\n",
       "      <td>22</td>\n",
       "      <td>2023</td>\n",
       "      <td>February2023</td>\n",
       "      <td>1</td>\n",
       "    </tr>\n",
       "    <tr>\n",
       "      <th>2</th>\n",
       "      <td>1246023704</td>\n",
       "      <td>Tue, 07 Feb 2023 08:26:43 +0000</td>\n",
       "      <td>NaN</td>\n",
       "      <td>3.25</td>\n",
       "      <td>Lotry</td>\n",
       "      <td>37408</td>\n",
       "      <td>791</td>\n",
       "      <td>NaN</td>\n",
       "      <td>3.0</td>\n",
       "      <td>8836873.0</td>\n",
       "      <td>NaN</td>\n",
       "      <td>2023-02-07 08:26:43+00:00</td>\n",
       "      <td>Tuesday</td>\n",
       "      <td>February</td>\n",
       "      <td>8</td>\n",
       "      <td>7</td>\n",
       "      <td>2023</td>\n",
       "      <td>February2023</td>\n",
       "      <td>1</td>\n",
       "    </tr>\n",
       "    <tr>\n",
       "      <th>3</th>\n",
       "      <td>1244331790</td>\n",
       "      <td>Wed, 01 Feb 2023 12:06:37 +0000</td>\n",
       "      <td>NaN</td>\n",
       "      <td>3.25</td>\n",
       "      <td>Lotry</td>\n",
       "      <td>3514381</td>\n",
       "      <td>791</td>\n",
       "      <td>NaN</td>\n",
       "      <td>1.0</td>\n",
       "      <td>11795342.0</td>\n",
       "      <td>NaN</td>\n",
       "      <td>2023-02-01 12:06:37+00:00</td>\n",
       "      <td>Wednesday</td>\n",
       "      <td>February</td>\n",
       "      <td>12</td>\n",
       "      <td>1</td>\n",
       "      <td>2023</td>\n",
       "      <td>February2023</td>\n",
       "      <td>1</td>\n",
       "    </tr>\n",
       "    <tr>\n",
       "      <th>4</th>\n",
       "      <td>1243785491</td>\n",
       "      <td>Sun, 29 Jan 2023 07:45:25 +0000</td>\n",
       "      <td>NaN</td>\n",
       "      <td>3.00</td>\n",
       "      <td>Lotry</td>\n",
       "      <td>2825795</td>\n",
       "      <td>344</td>\n",
       "      <td>NaN</td>\n",
       "      <td>NaN</td>\n",
       "      <td>8684100.0</td>\n",
       "      <td>NaN</td>\n",
       "      <td>2023-01-29 07:45:25+00:00</td>\n",
       "      <td>Sunday</td>\n",
       "      <td>January</td>\n",
       "      <td>7</td>\n",
       "      <td>29</td>\n",
       "      <td>2023</td>\n",
       "      <td>January2023</td>\n",
       "      <td>1</td>\n",
       "    </tr>\n",
       "  </tbody>\n",
       "</table>\n",
       "</div>"
      ],
      "text/plain": [
       "           id                       created_at  \\\n",
       "0  1250498081  Fri, 24 Feb 2023 12:53:21 +0000   \n",
       "1  1250117150  Wed, 22 Feb 2023 17:27:54 +0000   \n",
       "2  1246023704  Tue, 07 Feb 2023 08:26:43 +0000   \n",
       "3  1244331790  Wed, 01 Feb 2023 12:06:37 +0000   \n",
       "4  1243785491  Sun, 29 Jan 2023 07:45:25 +0000   \n",
       "\n",
       "                                             comment  score user_name  \\\n",
       "0  Лайтовый пилснер. Как альтернатива лайону - хо...   3.00     Lotry   \n",
       "1                                                NaN   3.00     Lotry   \n",
       "2                                                NaN   3.25     Lotry   \n",
       "3                                                NaN   3.25     Lotry   \n",
       "4                                                NaN   3.00     Lotry   \n",
       "\n",
       "   beer_id  brewery_id language  container    venue_id  retail_venue_id  \\\n",
       "0    20825        3097       ru        1.0  11827219.0              NaN   \n",
       "1  4699736      428719      NaN        1.0   6009518.0              NaN   \n",
       "2    37408         791      NaN        3.0   8836873.0              NaN   \n",
       "3  3514381         791      NaN        1.0  11795342.0              NaN   \n",
       "4  2825795         344      NaN        NaN   8684100.0              NaN   \n",
       "\n",
       "        created_at_datetime day_of_week     month  hour  day_of_month  year  \\\n",
       "0 2023-02-24 12:53:21+00:00      Friday  February    12            24  2023   \n",
       "1 2023-02-22 17:27:54+00:00   Wednesday  February    17            22  2023   \n",
       "2 2023-02-07 08:26:43+00:00     Tuesday  February     8             7  2023   \n",
       "3 2023-02-01 12:06:37+00:00   Wednesday  February    12             1  2023   \n",
       "4 2023-01-29 07:45:25+00:00      Sunday   January     7            29  2023   \n",
       "\n",
       "     month_year  quarter  \n",
       "0  February2023        1  \n",
       "1  February2023        1  \n",
       "2  February2023        1  \n",
       "3  February2023        1  \n",
       "4   January2023        1  "
      ]
     },
     "execution_count": 18,
     "metadata": {},
     "output_type": "execute_result"
    }
   ],
   "source": [
    "df.head()"
   ]
  },
  {
   "cell_type": "code",
   "execution_count": null,
   "metadata": {},
   "outputs": [],
   "source": [
    "# df['month_year'] = df.month + df.year.astype(str)\n",
    "df['Q_year'] = 'Q' + df.quarter.astype(str) + '_' + df.year.astype(str)"
   ]
  },
  {
   "cell_type": "code",
   "execution_count": null,
   "metadata": {},
   "outputs": [],
   "source": [
    "users_df['joined_datetime'] = pd.to_datetime(users_df['date_joined'], format='%a, %d %b %Y %H:%M:%S %z')"
   ]
  },
  {
   "cell_type": "code",
   "execution_count": null,
   "metadata": {},
   "outputs": [],
   "source": [
    "df['Q_year_filtered'] = df[df.user_name.isin(users_df[users_df.joined_datetime.dt.year < 2019].user_name)]['Q_year']"
   ]
  },
  {
   "cell_type": "code",
   "execution_count": null,
   "metadata": {},
   "outputs": [
    {
     "data": {
      "text/plain": [
       "1103085"
      ]
     },
     "execution_count": 35,
     "metadata": {},
     "output_type": "execute_result"
    }
   ],
   "source": [
    "df.Q_year_filtered.isna().sum()"
   ]
  },
  {
   "cell_type": "code",
   "execution_count": null,
   "metadata": {},
   "outputs": [],
   "source": [
    "Q_year_ordered = []\n",
    "for year in range(2018, 2024):\n",
    "    for Q in range(1, 5):\n",
    "            Q_year_ordered.append(f'Q{Q}_{year}')\n",
    "Q_year_ordered.pop()\n",
    "Q_year_ordered.pop()\n",
    "Q_year_ordered.pop()"
   ]
  },
  {
   "cell_type": "code",
   "execution_count": null,
   "metadata": {},
   "outputs": [
    {
     "data": {
      "image/png": "[encoded data removed]",
      "text/plain": [
       "<Figure size 1000x500 with 1 Axes>"
      ]
     },
     "metadata": {},
     "output_type": "display_data"
    }
   ],
   "source": [
    "plt.figure(figsize=(10,5));\n",
    "sns.countplot(data=df, x='Q_year', order=Q_year_ordered);\n",
    "plt.xticks(rotation=45);"
   ]
  },
  {
   "cell_type": "code",
   "execution_count": null,
   "metadata": {},
   "outputs": [
    {
     "data": {
      "image/png": "[encoded data removed]",
      "text/plain": [
       "<Figure size 1000x500 with 1 Axes>"
      ]
     },
     "metadata": {},
     "output_type": "display_data"
    }
   ],
   "source": [
    "plt.figure(figsize=(10,5));\n",
    "sns.countplot(data=df, x='Q_year_filtered', order=Q_year_ordered);\n",
    "plt.xticks(rotation=45);"
   ]
  },
  {
   "cell_type": "code",
   "execution_count": null,
   "metadata": {},
   "outputs": [],
   "source": []
  },
  {
   "cell_type": "code",
   "execution_count": null,
   "metadata": {},
   "outputs": [
    {
     "name": "stdout",
     "output_type": "stream",
     "text": [
      "11611\n",
      "mean score:  3.5975245824887256\n",
      "shape: (3797622, 30)\n",
      "unique rows shape: (3797614, 30)\n",
      "unique users: 11611\n"
     ]
    }
   ],
   "source": [
    "print(df['user_name'].nunique())\n",
    "print('mean score: ', df['score'].mean())\n",
    "print('shape:', df.shape)\n",
    "print('unique rows shape:', df.drop_duplicates().shape)\n",
    "print('unique users:', df['user_name'].nunique())"
   ]
  },
  {
   "attachments": {},
   "cell_type": "markdown",
   "metadata": {},
   "source": [
    "## ----"
   ]
  },
  {
   "cell_type": "code",
   "execution_count": 6,
   "metadata": {},
   "outputs": [],
   "source": [
    "pos_comments = []\n",
    "neg_comments = []\n",
    "# 1st & last quartile"
   ]
  },
  {
   "cell_type": "code",
   "execution_count": 4,
   "metadata": {},
   "outputs": [],
   "source": [
    "df_with_comments = df.dropna(subset='comment')"
   ]
  },
  {
   "cell_type": "code",
   "execution_count": 7,
   "metadata": {},
   "outputs": [],
   "source": [
    "for index, row in df_with_comments.iterrows():\n",
    "\tif row.score > 3.6:\n",
    "\t\tpos_comments.append(row.comment)\n",
    "\telse:\n",
    "\t\tneg_comments.append(row.comment)"
   ]
  },
  {
   "cell_type": "code",
   "execution_count": 10,
   "metadata": {},
   "outputs": [
    {
     "name": "stdout",
     "output_type": "stream",
     "text": [
      "pos 1037739\n",
      "neg 530617\n"
     ]
    }
   ],
   "source": [
    "bag_of_words = []\n",
    "pos_bag_of_words = []\n",
    "neg_bag_of_words = []\n",
    "print('pos', len(pos_comments))\n",
    "print('neg', len(neg_comments))"
   ]
  },
  {
   "cell_type": "code",
   "execution_count": null,
   "metadata": {},
   "outputs": [],
   "source": [
    "for comment in pos"
   ]
  },
  {
   "cell_type": "code",
   "execution_count": 6,
   "metadata": {},
   "outputs": [
    {
     "data": {
      "text/plain": [
       "ru    675712\n",
       "en    528918\n",
       "nl     20322\n",
       "de     11374\n",
       "sr      9574\n",
       "es      7587\n",
       "uk      7249\n",
       "fr      7051\n",
       "be      5874\n",
       "sv      5805\n",
       "pt      5409\n",
       "bg      3940\n",
       "it      3533\n",
       "ja      2943\n",
       "mk      2293\n",
       "pl      2101\n",
       "da      2088\n",
       "no      1854\n",
       "fi      1023\n",
       "af       854\n",
       "Name: language, dtype: int64"
      ]
     },
     "execution_count": 6,
     "metadata": {},
     "output_type": "execute_result"
    }
   ],
   "source": [
    "df.language.value_counts()[:20]"
   ]
  },
  {
   "cell_type": "code",
   "execution_count": null,
   "metadata": {},
   "outputs": [],
   "source": [
    "def preprocess(doc: str):\n",
    "    re_tokenizer = RegexpTokenizer(r'[А-яA-z-ё]+')\n",
    "    tokens = re_tokenizer.tokenize(doc)\n",
    "    tokens = [token.lower() for token in tokens if len(token) > 1 and token.isalpha()]\n",
    "    tokenized_doc = [word for word in tokens if word not in stopwords_list]\n",
    "    return tokenized_doc"
   ]
  },
  {
   "cell_type": "code",
   "execution_count": null,
   "metadata": {},
   "outputs": [],
   "source": []
  }
 ],
 "metadata": {
  "kernelspec": {
   "display_name": "tip",
   "language": "python",
   "name": "python3"
  },
  "language_info": {
   "codemirror_mode": {
    "name": "ipython",
    "version": 3
   },
   "file_extension": ".py",
   "mimetype": "text/x-python",
   "name": "python",
   "nbconvert_exporter": "python",
   "pygments_lexer": "ipython3",
   "version": "3.10.8"
  },
  "orig_nbformat": 4,
  "vscode": {
   "interpreter": {
    "hash": "a4742bdb95c61f07b41efcb0629a17e6021c67c11b36603422976b6a87b48c32"
   }
  }
 },
 "nbformat": 4,
 "nbformat_minor": 2
}
