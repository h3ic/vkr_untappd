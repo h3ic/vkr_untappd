{
 "cells": [
  {
   "cell_type": "code",
   "execution_count": 1,
   "metadata": {},
   "outputs": [],
   "source": [
    "import pandas as pd\n",
    "import numpy as np\n",
    "import seaborn as sns\n",
    "from dtypes import users_beers_dtype\n",
    "import matplotlib.pyplot as plt\n",
    "sns.set()"
   ]
  },
  {
   "cell_type": "code",
   "execution_count": 2,
   "metadata": {},
   "outputs": [
    {
     "name": "stdout",
     "output_type": "stream",
     "text": [
      "(16578208, 6)\n"
     ]
    }
   ],
   "source": [
    "df = pd.read_csv('../data/users_beers.csv', dtype=users_beers_dtype)\n",
    "print(df.shape)"
   ]
  },
  {
   "cell_type": "code",
   "execution_count": 3,
   "metadata": {},
   "outputs": [
    {
     "name": "stdout",
     "output_type": "stream",
     "text": [
      "(2533906, 9)\n"
     ]
    }
   ],
   "source": [
    "beers_df = pd.read_csv('../data/beers.csv')\n",
    "print(beers_df.shape)"
   ]
  },
  {
   "cell_type": "code",
   "execution_count": 4,
   "metadata": {},
   "outputs": [
    {
     "data": {
      "text/plain": [
       "id                     0\n",
       "user_name              0\n",
       "score                  0\n",
       "count                  0\n",
       "first_checkin_date     0\n",
       "recent_checkin_date    0\n",
       "dtype: int64"
      ]
     },
     "execution_count": 4,
     "metadata": {},
     "output_type": "execute_result"
    }
   ],
   "source": [
    "df.isna().sum()"
   ]
  },
  {
   "attachments": {},
   "cell_type": "markdown",
   "metadata": {},
   "source": [
    "## Count"
   ]
  },
  {
   "cell_type": "code",
   "execution_count": 5,
   "metadata": {},
   "outputs": [
    {
     "data": {
      "text/plain": [
       "count    16578208.000000\n",
       "mean            1.203603\n",
       "std             2.780806\n",
       "min             1.000000\n",
       "25%             1.000000\n",
       "50%             1.000000\n",
       "75%             1.000000\n",
       "max          6083.000000\n",
       "Name: count, dtype: object"
      ]
     },
     "execution_count": 5,
     "metadata": {},
     "output_type": "execute_result"
    }
   ],
   "source": [
    "df['count'].describe().apply(lambda x: format(x, 'f'))"
   ]
  },
  {
   "cell_type": "code",
   "execution_count": 6,
   "metadata": {},
   "outputs": [
    {
     "data": {
      "image/png": "[encoded data removed]",
      "text/plain": [
       "<Figure size 640x480 with 1 Axes>"
      ]
     },
     "metadata": {},
     "output_type": "display_data"
    }
   ],
   "source": [
    "sns.histplot(df['count'], binrange=[1,8], discrete=True, stat='percent');"
   ]
  },
  {
   "cell_type": "code",
   "execution_count": 7,
   "metadata": {},
   "outputs": [
    {
     "data": {
      "text/plain": [
       "1      14986074\n",
       "2       1067349\n",
       "3        256247\n",
       "4        106453\n",
       "5         51059\n",
       "         ...   \n",
       "325           1\n",
       "276           1\n",
       "252           1\n",
       "177           1\n",
       "300           1\n",
       "Name: count, Length: 342, dtype: int64"
      ]
     },
     "execution_count": 7,
     "metadata": {},
     "output_type": "execute_result"
    }
   ],
   "source": [
    "df['count'].value_counts()"
   ]
  },
  {
   "cell_type": "code",
   "execution_count": 8,
   "metadata": {},
   "outputs": [],
   "source": [
    "counts = df['count'].value_counts()\n",
    "counts.to_csv('name.csv',index=False)"
   ]
  },
  {
   "cell_type": "code",
   "execution_count": 9,
   "metadata": {},
   "outputs": [
    {
     "data": {
      "text/plain": [
       "48722"
      ]
     },
     "execution_count": 9,
     "metadata": {},
     "output_type": "execute_result"
    }
   ],
   "source": [
    "counts.iloc[8:].sum()"
   ]
  },
  {
   "cell_type": "code",
   "execution_count": 10,
   "metadata": {},
   "outputs": [
    {
     "data": {
      "text/plain": [
       "id                                                3783\n",
       "user_name                                    Schlonger\n",
       "score                                              5.0\n",
       "count                                             6083\n",
       "first_checkin_date     Wed, 18 Feb 2015 00:49:34 +0000\n",
       "recent_checkin_date    Tue, 01 Mar 2022 01:03:24 +0000\n",
       "Name: 15909035, dtype: object"
      ]
     },
     "execution_count": 10,
     "metadata": {},
     "output_type": "execute_result"
    }
   ],
   "source": [
    "df.iloc[df['count'].idxmax()]"
   ]
  },
  {
   "cell_type": "code",
   "execution_count": 11,
   "metadata": {},
   "outputs": [
    {
     "data": {
      "text/html": [
       "<div>\n",
       "<style scoped>\n",
       "    .dataframe tbody tr th:only-of-type {\n",
       "        vertical-align: middle;\n",
       "    }\n",
       "\n",
       "    .dataframe tbody tr th {\n",
       "        vertical-align: top;\n",
       "    }\n",
       "\n",
       "    .dataframe thead th {\n",
       "        text-align: right;\n",
       "    }\n",
       "</style>\n",
       "<table border=\"1\" class=\"dataframe\">\n",
       "  <thead>\n",
       "    <tr style=\"text-align: right;\">\n",
       "      <th></th>\n",
       "      <th>id</th>\n",
       "      <th>name</th>\n",
       "      <th>style</th>\n",
       "      <th>abv</th>\n",
       "      <th>ibu</th>\n",
       "      <th>created_at</th>\n",
       "      <th>rating_score</th>\n",
       "      <th>rating_count</th>\n",
       "      <th>brewery_id</th>\n",
       "    </tr>\n",
       "  </thead>\n",
       "  <tbody>\n",
       "    <tr>\n",
       "      <th>2029227</th>\n",
       "      <td>3783</td>\n",
       "      <td>Budweiser</td>\n",
       "      <td>Lager - American</td>\n",
       "      <td>5.0</td>\n",
       "      <td>12.0</td>\n",
       "      <td>Sat, 21 Aug 2010 14:26:35 +0000</td>\n",
       "      <td>2.60989</td>\n",
       "      <td>456590</td>\n",
       "      <td>44.0</td>\n",
       "    </tr>\n",
       "  </tbody>\n",
       "</table>\n",
       "</div>"
      ],
      "text/plain": [
       "           id       name             style  abv   ibu  \\\n",
       "2029227  3783  Budweiser  Lager - American  5.0  12.0   \n",
       "\n",
       "                              created_at  rating_score  rating_count  \\\n",
       "2029227  Sat, 21 Aug 2010 14:26:35 +0000       2.60989        456590   \n",
       "\n",
       "         brewery_id  \n",
       "2029227        44.0  "
      ]
     },
     "execution_count": 11,
     "metadata": {},
     "output_type": "execute_result"
    }
   ],
   "source": [
    "\n",
    "beers_df[beers_df.id == df.iloc[df['count'].idxmax()].id]"
   ]
  },
  {
   "attachments": {},
   "cell_type": "markdown",
   "metadata": {},
   "source": [
    "## Score"
   ]
  },
  {
   "cell_type": "code",
   "execution_count": 12,
   "metadata": {},
   "outputs": [
    {
     "data": {
      "text/plain": [
       "count    16578208.000000\n",
       "mean            3.532370\n",
       "std             1.058116\n",
       "min             0.000000\n",
       "25%             3.250000\n",
       "50%             3.750000\n",
       "75%             4.000000\n",
       "max             5.000000\n",
       "Name: score, dtype: object"
      ]
     },
     "execution_count": 12,
     "metadata": {},
     "output_type": "execute_result"
    }
   ],
   "source": [
    "df['score'].describe().apply(lambda x: format(x, 'f'))"
   ]
  },
  {
   "cell_type": "code",
   "execution_count": 13,
   "metadata": {},
   "outputs": [
    {
     "data": {
      "image/png": "[encoded data removed]",
      "text/plain": [
       "<Figure size 640x480 with 1 Axes>"
      ]
     },
     "metadata": {},
     "output_type": "display_data"
    }
   ],
   "source": [
    "ax = sns.histplot(df.score, stat='percent', binwidth=0.25);\n",
    "ax.set(xticks=np.arange(0,5.25,0.25))\n",
    "ax.tick_params(axis='x', rotation=45)\n",
    "plt.show()"
   ]
  },
  {
   "cell_type": "code",
   "execution_count": 14,
   "metadata": {},
   "outputs": [],
   "source": [
    "def r(n):\n",
    "    return round(n*4)/4\n",
    "\n",
    "score_rounded = r(df.score)"
   ]
  },
  {
   "cell_type": "code",
   "execution_count": 15,
   "metadata": {},
   "outputs": [
    {
     "data": {
      "image/png": "[encoded data removed]",
      "text/plain": [
       "<Figure size 1600x900 with 1 Axes>"
      ]
     },
     "metadata": {},
     "output_type": "display_data"
    }
   ],
   "source": [
    "plt.figure(figsize=(16,9))\n",
    "ax = sns.histplot(score_rounded, stat='percent');\n",
    "ax.set(xticks=np.arange(0,5.25,0.25))\n",
    "ax.tick_params(axis='x', rotation=45)\n",
    "plt.show()"
   ]
  },
  {
   "attachments": {},
   "cell_type": "markdown",
   "metadata": {},
   "source": [
    "#### Most popular beers which are tried n times"
   ]
  },
  {
   "cell_type": "code",
   "execution_count": 16,
   "metadata": {},
   "outputs": [
    {
     "data": {
      "text/html": [
       "<div>\n",
       "<style scoped>\n",
       "    .dataframe tbody tr th:only-of-type {\n",
       "        vertical-align: middle;\n",
       "    }\n",
       "\n",
       "    .dataframe tbody tr th {\n",
       "        vertical-align: top;\n",
       "    }\n",
       "\n",
       "    .dataframe thead th {\n",
       "        text-align: right;\n",
       "    }\n",
       "</style>\n",
       "<table border=\"1\" class=\"dataframe\">\n",
       "  <thead>\n",
       "    <tr style=\"text-align: right;\">\n",
       "      <th></th>\n",
       "      <th>id</th>\n",
       "      <th>name</th>\n",
       "      <th>style</th>\n",
       "      <th>abv</th>\n",
       "      <th>ibu</th>\n",
       "      <th>created_at</th>\n",
       "      <th>rating_score</th>\n",
       "      <th>rating_count</th>\n",
       "      <th>brewery_id</th>\n",
       "    </tr>\n",
       "  </thead>\n",
       "  <tbody>\n",
       "    <tr>\n",
       "      <th>2028706</th>\n",
       "      <td>3954</td>\n",
       "      <td>Duchesse de Bourgogne</td>\n",
       "      <td>Sour - Flanders Red Ale</td>\n",
       "      <td>6.2</td>\n",
       "      <td>11.0</td>\n",
       "      <td>Sat, 21 Aug 2010 14:26:35 +0000</td>\n",
       "      <td>3.67391</td>\n",
       "      <td>232685</td>\n",
       "      <td>305.0</td>\n",
       "    </tr>\n",
       "    <tr>\n",
       "      <th>2028897</th>\n",
       "      <td>37936</td>\n",
       "      <td>Pilsner Urquell</td>\n",
       "      <td>Pilsner - Czech</td>\n",
       "      <td>4.4</td>\n",
       "      <td>40.0</td>\n",
       "      <td>Fri, 18 Mar 2011 00:23:31 +0000</td>\n",
       "      <td>3.36854</td>\n",
       "      <td>359612</td>\n",
       "      <td>1459.0</td>\n",
       "    </tr>\n",
       "    <tr>\n",
       "      <th>2028942</th>\n",
       "      <td>14564</td>\n",
       "      <td>Franziskaner Premium Weissbier Naturtrüb</td>\n",
       "      <td>Wheat Beer - Hefeweizen</td>\n",
       "      <td>5.0</td>\n",
       "      <td>12.0</td>\n",
       "      <td>Mon, 13 Dec 2010 17:11:54 +0000</td>\n",
       "      <td>3.69987</td>\n",
       "      <td>384430</td>\n",
       "      <td>1176.0</td>\n",
       "    </tr>\n",
       "    <tr>\n",
       "      <th>2028944</th>\n",
       "      <td>15677</td>\n",
       "      <td>Paulaner Hefe-Weißbier / Hefe-Weizen / Weissbier</td>\n",
       "      <td>Wheat Beer - Hefeweizen</td>\n",
       "      <td>5.5</td>\n",
       "      <td>16.0</td>\n",
       "      <td>Mon, 20 Dec 2010 00:24:57 +0000</td>\n",
       "      <td>3.67186</td>\n",
       "      <td>395426</td>\n",
       "      <td>972.0</td>\n",
       "    </tr>\n",
       "    <tr>\n",
       "      <th>2028988</th>\n",
       "      <td>5940</td>\n",
       "      <td>Leffe Blonde / Blond</td>\n",
       "      <td>Belgian Blonde</td>\n",
       "      <td>6.6</td>\n",
       "      <td>20.0</td>\n",
       "      <td>Fri, 01 Oct 2010 14:41:56 +0000</td>\n",
       "      <td>3.58555</td>\n",
       "      <td>467140</td>\n",
       "      <td>5.0</td>\n",
       "    </tr>\n",
       "    <tr>\n",
       "      <th>2029033</th>\n",
       "      <td>1441008</td>\n",
       "      <td>Elvis Juice</td>\n",
       "      <td>IPA - American</td>\n",
       "      <td>6.5</td>\n",
       "      <td>40.0</td>\n",
       "      <td>Wed, 24 Feb 2016 18:32:43 +0000</td>\n",
       "      <td>3.71276</td>\n",
       "      <td>349592</td>\n",
       "      <td>241.0</td>\n",
       "    </tr>\n",
       "    <tr>\n",
       "      <th>2029038</th>\n",
       "      <td>3839</td>\n",
       "      <td>Belgian White</td>\n",
       "      <td>Wheat Beer - Witbier / Blanche</td>\n",
       "      <td>5.4</td>\n",
       "      <td>9.0</td>\n",
       "      <td>Sat, 21 Aug 2010 14:26:35 +0000</td>\n",
       "      <td>3.49994</td>\n",
       "      <td>551628</td>\n",
       "      <td>127804.0</td>\n",
       "    </tr>\n",
       "    <tr>\n",
       "      <th>2029091</th>\n",
       "      <td>6422</td>\n",
       "      <td>Hoegaarden Wit / Blanche</td>\n",
       "      <td>Wheat Beer - Witbier / Blanche</td>\n",
       "      <td>4.9</td>\n",
       "      <td>15.0</td>\n",
       "      <td>Sun, 10 Oct 2010 13:14:40 +0000</td>\n",
       "      <td>3.55581</td>\n",
       "      <td>423644</td>\n",
       "      <td>302.0</td>\n",
       "    </tr>\n",
       "    <tr>\n",
       "      <th>2029163</th>\n",
       "      <td>5848</td>\n",
       "      <td>Corona Extra</td>\n",
       "      <td>Lager - Mexican</td>\n",
       "      <td>4.5</td>\n",
       "      <td>18.0</td>\n",
       "      <td>Sat, 21 Aug 2010 13:24:16 +0000</td>\n",
       "      <td>3.11338</td>\n",
       "      <td>591943</td>\n",
       "      <td>618.0</td>\n",
       "    </tr>\n",
       "    <tr>\n",
       "      <th>2029313</th>\n",
       "      <td>5702</td>\n",
       "      <td>Punk IPA</td>\n",
       "      <td>IPA - American</td>\n",
       "      <td>5.2</td>\n",
       "      <td>35.0</td>\n",
       "      <td>Sat, 21 Aug 2010 14:26:35 +0000</td>\n",
       "      <td>3.72180</td>\n",
       "      <td>490264</td>\n",
       "      <td>241.0</td>\n",
       "    </tr>\n",
       "  </tbody>\n",
       "</table>\n",
       "</div>"
      ],
      "text/plain": [
       "              id                                              name  \\\n",
       "2028706     3954                             Duchesse de Bourgogne   \n",
       "2028897    37936                                   Pilsner Urquell   \n",
       "2028942    14564          Franziskaner Premium Weissbier Naturtrüb   \n",
       "2028944    15677  Paulaner Hefe-Weißbier / Hefe-Weizen / Weissbier   \n",
       "2028988     5940                              Leffe Blonde / Blond   \n",
       "2029033  1441008                                       Elvis Juice   \n",
       "2029038     3839                                     Belgian White   \n",
       "2029091     6422                          Hoegaarden Wit / Blanche   \n",
       "2029163     5848                                      Corona Extra   \n",
       "2029313     5702                                          Punk IPA   \n",
       "\n",
       "                                  style  abv   ibu  \\\n",
       "2028706         Sour - Flanders Red Ale  6.2  11.0   \n",
       "2028897                 Pilsner - Czech  4.4  40.0   \n",
       "2028942         Wheat Beer - Hefeweizen  5.0  12.0   \n",
       "2028944         Wheat Beer - Hefeweizen  5.5  16.0   \n",
       "2028988                  Belgian Blonde  6.6  20.0   \n",
       "2029033                  IPA - American  6.5  40.0   \n",
       "2029038  Wheat Beer - Witbier / Blanche  5.4   9.0   \n",
       "2029091  Wheat Beer - Witbier / Blanche  4.9  15.0   \n",
       "2029163                 Lager - Mexican  4.5  18.0   \n",
       "2029313                  IPA - American  5.2  35.0   \n",
       "\n",
       "                              created_at  rating_score  rating_count  \\\n",
       "2028706  Sat, 21 Aug 2010 14:26:35 +0000       3.67391        232685   \n",
       "2028897  Fri, 18 Mar 2011 00:23:31 +0000       3.36854        359612   \n",
       "2028942  Mon, 13 Dec 2010 17:11:54 +0000       3.69987        384430   \n",
       "2028944  Mon, 20 Dec 2010 00:24:57 +0000       3.67186        395426   \n",
       "2028988  Fri, 01 Oct 2010 14:41:56 +0000       3.58555        467140   \n",
       "2029033  Wed, 24 Feb 2016 18:32:43 +0000       3.71276        349592   \n",
       "2029038  Sat, 21 Aug 2010 14:26:35 +0000       3.49994        551628   \n",
       "2029091  Sun, 10 Oct 2010 13:14:40 +0000       3.55581        423644   \n",
       "2029163  Sat, 21 Aug 2010 13:24:16 +0000       3.11338        591943   \n",
       "2029313  Sat, 21 Aug 2010 14:26:35 +0000       3.72180        490264   \n",
       "\n",
       "         brewery_id  \n",
       "2028706       305.0  \n",
       "2028897      1459.0  \n",
       "2028942      1176.0  \n",
       "2028944       972.0  \n",
       "2028988         5.0  \n",
       "2029033       241.0  \n",
       "2029038    127804.0  \n",
       "2029091       302.0  \n",
       "2029163       618.0  \n",
       "2029313       241.0  "
      ]
     },
     "execution_count": 16,
     "metadata": {},
     "output_type": "execute_result"
    }
   ],
   "source": [
    "beers_df[beers_df.id.isin(df[df['count'] == 1].id.value_counts().index[:10])]"
   ]
  },
  {
   "attachments": {},
   "cell_type": "markdown",
   "metadata": {},
   "source": [
    "## Зависимость популярности стилей от количества чекинов пользователей"
   ]
  },
  {
   "cell_type": "code",
   "execution_count": null,
   "metadata": {},
   "outputs": [],
   "source": [
    "N_TOP_STYLES = 10"
   ]
  },
  {
   "cell_type": "code",
   "execution_count": null,
   "metadata": {},
   "outputs": [],
   "source": [
    "N_MANY_STYLES = 100\n",
    "def favorite_styles_of_user_group(interval, n_top_styles=N_MANY_STYLES):\n",
    "\tmin_checkins = interval[0]\n",
    "\tmax_checkins = interval[1]\n",
    "\tslice_of_user_group = df[df.user_name.isin(users_df[(users_df.total_beers >= min_checkins) & (users_df.total_beers < max_checkins)].user_name)]\n",
    "\tcounts = slice_of_user_group['style'].value_counts()[:n_top_styles]\n",
    "\ttotal_checkins = slice_of_user_group.shape[0]\n",
    "\tfor index in counts.index:\n",
    "\t\t\tcounts[index] = (counts[index] / total_checkins * 100).round(2)\n",
    "\treturn counts"
   ]
  },
  {
   "cell_type": "code",
   "execution_count": null,
   "metadata": {},
   "outputs": [],
   "source": [
    "# intervals = [[0, 100], [100, 500], [500, 1000], [1000, 5000], [5000, 100000]]\n",
    "intervals = [[0, 300], [300, 1000], [1000, 2500], [2500, 5000], [5000, 100000]]"
   ]
  },
  {
   "cell_type": "code",
   "execution_count": null,
   "metadata": {},
   "outputs": [],
   "source": [
    "# create top_unique_styles_index – index for common order among intervals\n",
    "N_MANY_STYLES = 100\n",
    "\n",
    "one = favorite_styles_of_user_group(intervals[0])\n",
    "two = favorite_styles_of_user_group(intervals[1])\n",
    "three = favorite_styles_of_user_group(intervals[2])\n",
    "four = favorite_styles_of_user_group(intervals[3])\n",
    "five = favorite_styles_of_user_group(intervals[4])\n",
    "\n",
    "top_unique_styles_index = pd.concat([one, two, three, four, five]).index.drop_duplicates()\n",
    "\n",
    "one = one.reindex(top_unique_styles_index)\n",
    "two = two.reindex(top_unique_styles_index)\n",
    "three = three.reindex(top_unique_styles_index)\n",
    "four = four.reindex(top_unique_styles_index)\n",
    "five = five.reindex(top_unique_styles_index)"
   ]
  },
  {
   "cell_type": "code",
   "execution_count": null,
   "metadata": {},
   "outputs": [],
   "source": [
    "N_TOP_STYLES = 10\n",
    "def create_data(frames):\n",
    "    return [frame.values[:N_TOP_STYLES] for frame in frames]\n",
    "data = create_data([one, two, three, four, five])\n",
    "# index = ['0-100', '100-500', '500-1000', '1000-5000', '5000+']\n",
    "index = ['0-300', '300-1000', '1000-2500', '2500-5000', '5000+']\n",
    "columns = top_unique_styles_index[:N_TOP_STYLES]\n",
    "lineplot_data = pd.DataFrame(data, index, columns)\n",
    "\n",
    "sns.set_theme(style=\"whitegrid\")\n",
    "plt.figure(figsize=(12,8))\n",
    "sns.lineplot(data=lineplot_data);\n",
    "plt.xlabel('Total checkins')\n",
    "plt.ylabel('Percent of checked in beers')\n",
    "plt.legend(loc='upper right')\n",
    "\n",
    "plt.show()"
   ]
  }
 ],
 "metadata": {
  "kernelspec": {
   "display_name": "tip",
   "language": "python",
   "name": "python3"
  },
  "language_info": {
   "codemirror_mode": {
    "name": "ipython",
    "version": 3
   },
   "file_extension": ".py",
   "mimetype": "text/x-python",
   "name": "python",
   "nbconvert_exporter": "python",
   "pygments_lexer": "ipython3",
   "version": "3.10.8"
  },
  "orig_nbformat": 4,
  "vscode": {
   "interpreter": {
    "hash": "a4742bdb95c61f07b41efcb0629a17e6021c67c11b36603422976b6a87b48c32"
   }
  }
 },
 "nbformat": 4,
 "nbformat_minor": 2
}
