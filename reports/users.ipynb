{
 "cells": [
  {
   "cell_type": "code",
   "execution_count": 2,
   "metadata": {},
   "outputs": [],
   "source": [
    "from dtypes import users_dtype\n",
    "import pandas as pd\n",
    "import seaborn as sns\n",
    "import matplotlib.pyplot as plt\n",
    "import numpy as np\n",
    "sns.set()"
   ]
  },
  {
   "cell_type": "code",
   "execution_count": 3,
   "metadata": {},
   "outputs": [
    {
     "data": {
      "text/plain": [
       "(11664, 14)"
      ]
     },
     "execution_count": 3,
     "metadata": {},
     "output_type": "execute_result"
    }
   ],
   "source": [
    "df = pd.read_csv('../data/users.csv', dtype=users_dtype)\n",
    "df.shape"
   ]
  },
  {
   "cell_type": "code",
   "execution_count": 6,
   "metadata": {},
   "outputs": [
    {
     "data": {
      "text/plain": [
       "count    11664.00\n",
       "mean      1845.23\n",
       "std       2693.28\n",
       "min          0.00\n",
       "25%        277.75\n",
       "50%        851.00\n",
       "75%       2304.00\n",
       "max      49150.00\n",
       "Name: total_checkins, dtype: object"
      ]
     },
     "execution_count": 6,
     "metadata": {},
     "output_type": "execute_result"
    }
   ],
   "source": [
    "# df.describe().apply(lambda s: s.apply('{0:.2f}'.format))\n",
    "df.total_checkins.describe().apply('{0:.2f}'.format)"
   ]
  },
  {
   "cell_type": "code",
   "execution_count": 4,
   "metadata": {},
   "outputs": [
    {
     "data": {
      "text/html": [
       "<div>\n",
       "<style scoped>\n",
       "    .dataframe tbody tr th:only-of-type {\n",
       "        vertical-align: middle;\n",
       "    }\n",
       "\n",
       "    .dataframe tbody tr th {\n",
       "        vertical-align: top;\n",
       "    }\n",
       "\n",
       "    .dataframe thead th {\n",
       "        text-align: right;\n",
       "    }\n",
       "</style>\n",
       "<table border=\"1\" class=\"dataframe\">\n",
       "  <thead>\n",
       "    <tr style=\"text-align: right;\">\n",
       "      <th></th>\n",
       "      <th>id</th>\n",
       "      <th>total_badges</th>\n",
       "      <th>total_friends</th>\n",
       "      <th>total_checkins</th>\n",
       "      <th>total_beers</th>\n",
       "      <th>total_created_beers</th>\n",
       "      <th>total_photos</th>\n",
       "    </tr>\n",
       "  </thead>\n",
       "  <tbody>\n",
       "    <tr>\n",
       "      <th>count</th>\n",
       "      <td>11664</td>\n",
       "      <td>11664</td>\n",
       "      <td>11664</td>\n",
       "      <td>11664</td>\n",
       "      <td>11664</td>\n",
       "      <td>11664</td>\n",
       "      <td>11664</td>\n",
       "    </tr>\n",
       "    <tr>\n",
       "      <th>mean</th>\n",
       "      <td>4842158</td>\n",
       "      <td>1434</td>\n",
       "      <td>263</td>\n",
       "      <td>1845</td>\n",
       "      <td>1524</td>\n",
       "      <td>8</td>\n",
       "      <td>1184</td>\n",
       "    </tr>\n",
       "    <tr>\n",
       "      <th>std</th>\n",
       "      <td>2644821</td>\n",
       "      <td>1297</td>\n",
       "      <td>1340</td>\n",
       "      <td>2693</td>\n",
       "      <td>2153</td>\n",
       "      <td>37</td>\n",
       "      <td>1939</td>\n",
       "    </tr>\n",
       "    <tr>\n",
       "      <th>min</th>\n",
       "      <td>1</td>\n",
       "      <td>0</td>\n",
       "      <td>1</td>\n",
       "      <td>0</td>\n",
       "      <td>0</td>\n",
       "      <td>0</td>\n",
       "      <td>0</td>\n",
       "    </tr>\n",
       "    <tr>\n",
       "      <th>25%</th>\n",
       "      <td>2605532</td>\n",
       "      <td>401</td>\n",
       "      <td>17</td>\n",
       "      <td>277</td>\n",
       "      <td>253</td>\n",
       "      <td>0</td>\n",
       "      <td>96</td>\n",
       "    </tr>\n",
       "    <tr>\n",
       "      <th>50%</th>\n",
       "      <td>5060496</td>\n",
       "      <td>1093</td>\n",
       "      <td>46</td>\n",
       "      <td>851</td>\n",
       "      <td>752</td>\n",
       "      <td>0</td>\n",
       "      <td>444</td>\n",
       "    </tr>\n",
       "    <tr>\n",
       "      <th>75%</th>\n",
       "      <td>7079309</td>\n",
       "      <td>2118</td>\n",
       "      <td>133</td>\n",
       "      <td>2304</td>\n",
       "      <td>1926</td>\n",
       "      <td>4</td>\n",
       "      <td>1403</td>\n",
       "    </tr>\n",
       "    <tr>\n",
       "      <th>max</th>\n",
       "      <td>10295459</td>\n",
       "      <td>12711</td>\n",
       "      <td>25014</td>\n",
       "      <td>49150</td>\n",
       "      <td>42570</td>\n",
       "      <td>1501</td>\n",
       "      <td>23154</td>\n",
       "    </tr>\n",
       "  </tbody>\n",
       "</table>\n",
       "</div>"
      ],
      "text/plain": [
       "             id  total_badges  total_friends  total_checkins  total_beers  \\\n",
       "count     11664         11664          11664           11664        11664   \n",
       "mean    4842158          1434            263            1845         1524   \n",
       "std     2644821          1297           1340            2693         2153   \n",
       "min           1             0              1               0            0   \n",
       "25%     2605532           401             17             277          253   \n",
       "50%     5060496          1093             46             851          752   \n",
       "75%     7079309          2118            133            2304         1926   \n",
       "max    10295459         12711          25014           49150        42570   \n",
       "\n",
       "       total_created_beers  total_photos  \n",
       "count                11664         11664  \n",
       "mean                     8          1184  \n",
       "std                     37          1939  \n",
       "min                      0             0  \n",
       "25%                      0            96  \n",
       "50%                      0           444  \n",
       "75%                      4          1403  \n",
       "max                   1501         23154  "
      ]
     },
     "execution_count": 4,
     "metadata": {},
     "output_type": "execute_result"
    }
   ],
   "source": [
    "df.describe().apply(lambda s: s.apply(int))"
   ]
  },
  {
   "cell_type": "code",
   "execution_count": 3,
   "metadata": {},
   "outputs": [
    {
     "data": {
      "text/plain": [
       "id                        0\n",
       "user_name                 0\n",
       "first_name                2\n",
       "last_name              1869\n",
       "location               5851\n",
       "bio                    7877\n",
       "total_badges              0\n",
       "total_friends             0\n",
       "total_checkins            0\n",
       "total_beers               0\n",
       "total_created_beers       0\n",
       "total_photos              0\n",
       "date_joined               0\n",
       "dtype: int64"
      ]
     },
     "execution_count": 3,
     "metadata": {},
     "output_type": "execute_result"
    }
   ],
   "source": [
    "df.isna().sum()"
   ]
  },
  {
   "cell_type": "code",
   "execution_count": 4,
   "metadata": {},
   "outputs": [
    {
     "data": {
      "text/html": [
       "<div>\n",
       "<style scoped>\n",
       "    .dataframe tbody tr th:only-of-type {\n",
       "        vertical-align: middle;\n",
       "    }\n",
       "\n",
       "    .dataframe tbody tr th {\n",
       "        vertical-align: top;\n",
       "    }\n",
       "\n",
       "    .dataframe thead th {\n",
       "        text-align: right;\n",
       "    }\n",
       "</style>\n",
       "<table border=\"1\" class=\"dataframe\">\n",
       "  <thead>\n",
       "    <tr style=\"text-align: right;\">\n",
       "      <th></th>\n",
       "      <th>id</th>\n",
       "      <th>user_name</th>\n",
       "      <th>first_name</th>\n",
       "      <th>last_name</th>\n",
       "      <th>location</th>\n",
       "      <th>bio</th>\n",
       "      <th>total_badges</th>\n",
       "      <th>total_friends</th>\n",
       "      <th>total_checkins</th>\n",
       "      <th>total_beers</th>\n",
       "      <th>total_created_beers</th>\n",
       "      <th>total_photos</th>\n",
       "      <th>date_joined</th>\n",
       "    </tr>\n",
       "  </thead>\n",
       "  <tbody>\n",
       "    <tr>\n",
       "      <th>0</th>\n",
       "      <td>6912548</td>\n",
       "      <td>Lotry</td>\n",
       "      <td>Evgenii</td>\n",
       "      <td>Shalov</td>\n",
       "      <td>Saint Petersburg/Orel</td>\n",
       "      <td>NaN</td>\n",
       "      <td>1744</td>\n",
       "      <td>16</td>\n",
       "      <td>1301</td>\n",
       "      <td>1118</td>\n",
       "      <td>0</td>\n",
       "      <td>771</td>\n",
       "      <td>Fri, 12 Jul 2019 20:45:18 +0000</td>\n",
       "    </tr>\n",
       "    <tr>\n",
       "      <th>1</th>\n",
       "      <td>9545796</td>\n",
       "      <td>Andrew84-Kino</td>\n",
       "      <td>Андрей</td>\n",
       "      <td>Р</td>\n",
       "      <td>NaN</td>\n",
       "      <td>NaN</td>\n",
       "      <td>441</td>\n",
       "      <td>32</td>\n",
       "      <td>276</td>\n",
       "      <td>255</td>\n",
       "      <td>2</td>\n",
       "      <td>269</td>\n",
       "      <td>Wed, 19 Jan 2022 07:04:22 +0000</td>\n",
       "    </tr>\n",
       "    <tr>\n",
       "      <th>2</th>\n",
       "      <td>9803766</td>\n",
       "      <td>sankovmd</td>\n",
       "      <td>Максим</td>\n",
       "      <td>Саньков</td>\n",
       "      <td>NaN</td>\n",
       "      <td>@maximsankov</td>\n",
       "      <td>497</td>\n",
       "      <td>15</td>\n",
       "      <td>335</td>\n",
       "      <td>327</td>\n",
       "      <td>0</td>\n",
       "      <td>334</td>\n",
       "      <td>Tue, 17 May 2022 13:44:47 +0000</td>\n",
       "    </tr>\n",
       "    <tr>\n",
       "      <th>3</th>\n",
       "      <td>8277564</td>\n",
       "      <td>artem_5716</td>\n",
       "      <td>Artem</td>\n",
       "      <td>NaN</td>\n",
       "      <td>Yerevan</td>\n",
       "      <td>Join @vanbeercommunity on TG if you are in Yer...</td>\n",
       "      <td>602</td>\n",
       "      <td>48</td>\n",
       "      <td>356</td>\n",
       "      <td>287</td>\n",
       "      <td>0</td>\n",
       "      <td>351</td>\n",
       "      <td>Tue, 22 Sep 2020 16:29:55 +0000</td>\n",
       "    </tr>\n",
       "    <tr>\n",
       "      <th>4</th>\n",
       "      <td>8423510</td>\n",
       "      <td>Oleg_Sorokin</td>\n",
       "      <td>Oleg</td>\n",
       "      <td>Sorokin</td>\n",
       "      <td>Orel &amp; Yerevan</td>\n",
       "      <td>NaN</td>\n",
       "      <td>1950</td>\n",
       "      <td>39</td>\n",
       "      <td>1664</td>\n",
       "      <td>1511</td>\n",
       "      <td>4</td>\n",
       "      <td>1650</td>\n",
       "      <td>Sun, 15 Nov 2020 18:57:42 +0000</td>\n",
       "    </tr>\n",
       "  </tbody>\n",
       "</table>\n",
       "</div>"
      ],
      "text/plain": [
       "        id      user_name first_name last_name               location  \\\n",
       "0  6912548          Lotry    Evgenii    Shalov  Saint Petersburg/Orel   \n",
       "1  9545796  Andrew84-Kino     Андрей         Р                    NaN   \n",
       "2  9803766       sankovmd     Максим   Саньков                    NaN   \n",
       "3  8277564     artem_5716      Artem       NaN                Yerevan   \n",
       "4  8423510   Oleg_Sorokin       Oleg   Sorokin         Orel & Yerevan   \n",
       "\n",
       "                                                 bio  total_badges  \\\n",
       "0                                                NaN          1744   \n",
       "1                                                NaN           441   \n",
       "2                                       @maximsankov           497   \n",
       "3  Join @vanbeercommunity on TG if you are in Yer...           602   \n",
       "4                                                NaN          1950   \n",
       "\n",
       "   total_friends  total_checkins  total_beers  total_created_beers  \\\n",
       "0             16            1301         1118                    0   \n",
       "1             32             276          255                    2   \n",
       "2             15             335          327                    0   \n",
       "3             48             356          287                    0   \n",
       "4             39            1664         1511                    4   \n",
       "\n",
       "   total_photos                      date_joined  \n",
       "0           771  Fri, 12 Jul 2019 20:45:18 +0000  \n",
       "1           269  Wed, 19 Jan 2022 07:04:22 +0000  \n",
       "2           334  Tue, 17 May 2022 13:44:47 +0000  \n",
       "3           351  Tue, 22 Sep 2020 16:29:55 +0000  \n",
       "4          1650  Sun, 15 Nov 2020 18:57:42 +0000  "
      ]
     },
     "execution_count": 4,
     "metadata": {},
     "output_type": "execute_result"
    }
   ],
   "source": [
    "df.head()"
   ]
  },
  {
   "cell_type": "code",
   "execution_count": 5,
   "metadata": {},
   "outputs": [
    {
     "data": {
      "text/html": [
       "<div>\n",
       "<style scoped>\n",
       "    .dataframe tbody tr th:only-of-type {\n",
       "        vertical-align: middle;\n",
       "    }\n",
       "\n",
       "    .dataframe tbody tr th {\n",
       "        vertical-align: top;\n",
       "    }\n",
       "\n",
       "    .dataframe thead th {\n",
       "        text-align: right;\n",
       "    }\n",
       "</style>\n",
       "<table border=\"1\" class=\"dataframe\">\n",
       "  <thead>\n",
       "    <tr style=\"text-align: right;\">\n",
       "      <th></th>\n",
       "      <th>id</th>\n",
       "      <th>total_badges</th>\n",
       "      <th>total_friends</th>\n",
       "      <th>total_checkins</th>\n",
       "      <th>total_beers</th>\n",
       "      <th>total_created_beers</th>\n",
       "      <th>total_photos</th>\n",
       "    </tr>\n",
       "  </thead>\n",
       "  <tbody>\n",
       "    <tr>\n",
       "      <th>count</th>\n",
       "      <td>11664</td>\n",
       "      <td>11664</td>\n",
       "      <td>11664</td>\n",
       "      <td>11664</td>\n",
       "      <td>11664</td>\n",
       "      <td>11664</td>\n",
       "      <td>11664</td>\n",
       "    </tr>\n",
       "    <tr>\n",
       "      <th>mean</th>\n",
       "      <td>4842158</td>\n",
       "      <td>1434</td>\n",
       "      <td>263</td>\n",
       "      <td>1845</td>\n",
       "      <td>1524</td>\n",
       "      <td>8</td>\n",
       "      <td>1184</td>\n",
       "    </tr>\n",
       "    <tr>\n",
       "      <th>std</th>\n",
       "      <td>2644821</td>\n",
       "      <td>1297</td>\n",
       "      <td>1340</td>\n",
       "      <td>2693</td>\n",
       "      <td>2153</td>\n",
       "      <td>37</td>\n",
       "      <td>1939</td>\n",
       "    </tr>\n",
       "    <tr>\n",
       "      <th>min</th>\n",
       "      <td>1</td>\n",
       "      <td>0</td>\n",
       "      <td>1</td>\n",
       "      <td>0</td>\n",
       "      <td>0</td>\n",
       "      <td>0</td>\n",
       "      <td>0</td>\n",
       "    </tr>\n",
       "    <tr>\n",
       "      <th>25%</th>\n",
       "      <td>2605532</td>\n",
       "      <td>401</td>\n",
       "      <td>17</td>\n",
       "      <td>277</td>\n",
       "      <td>253</td>\n",
       "      <td>0</td>\n",
       "      <td>96</td>\n",
       "    </tr>\n",
       "    <tr>\n",
       "      <th>50%</th>\n",
       "      <td>5060496</td>\n",
       "      <td>1093</td>\n",
       "      <td>46</td>\n",
       "      <td>851</td>\n",
       "      <td>752</td>\n",
       "      <td>0</td>\n",
       "      <td>444</td>\n",
       "    </tr>\n",
       "    <tr>\n",
       "      <th>75%</th>\n",
       "      <td>7079309</td>\n",
       "      <td>2118</td>\n",
       "      <td>133</td>\n",
       "      <td>2304</td>\n",
       "      <td>1926</td>\n",
       "      <td>4</td>\n",
       "      <td>1403</td>\n",
       "    </tr>\n",
       "    <tr>\n",
       "      <th>max</th>\n",
       "      <td>10295459</td>\n",
       "      <td>12711</td>\n",
       "      <td>25014</td>\n",
       "      <td>49150</td>\n",
       "      <td>42570</td>\n",
       "      <td>1501</td>\n",
       "      <td>23154</td>\n",
       "    </tr>\n",
       "  </tbody>\n",
       "</table>\n",
       "</div>"
      ],
      "text/plain": [
       "             id  total_badges  total_friends  total_checkins  total_beers  \\\n",
       "count     11664         11664          11664           11664        11664   \n",
       "mean    4842158          1434            263            1845         1524   \n",
       "std     2644821          1297           1340            2693         2153   \n",
       "min           1             0              1               0            0   \n",
       "25%     2605532           401             17             277          253   \n",
       "50%     5060496          1093             46             851          752   \n",
       "75%     7079309          2118            133            2304         1926   \n",
       "max    10295459         12711          25014           49150        42570   \n",
       "\n",
       "       total_created_beers  total_photos  \n",
       "count                11664         11664  \n",
       "mean                     8          1184  \n",
       "std                     37          1939  \n",
       "min                      0             0  \n",
       "25%                      0            96  \n",
       "50%                      0           444  \n",
       "75%                      4          1403  \n",
       "max                   1501         23154  "
      ]
     },
     "execution_count": 5,
     "metadata": {},
     "output_type": "execute_result"
    }
   ],
   "source": [
    "df.describe().apply(lambda s: s.apply(int))"
   ]
  },
  {
   "attachments": {},
   "cell_type": "markdown",
   "metadata": {},
   "source": [
    "## Распределение по городам/странам"
   ]
  },
  {
   "cell_type": "code",
   "execution_count": null,
   "metadata": {},
   "outputs": [],
   "source": []
  },
  {
   "attachments": {},
   "cell_type": "markdown",
   "metadata": {},
   "source": [
    "## Распределение по количеству чекинов"
   ]
  },
  {
   "cell_type": "code",
   "execution_count": 6,
   "metadata": {},
   "outputs": [
    {
     "data": {
      "image/png": "[encoded data removed]",
      "text/plain": [
       "<Figure size 640x480 with 1 Axes>"
      ]
     },
     "metadata": {},
     "output_type": "display_data"
    }
   ],
   "source": [
    "sns.histplot(df.total_checkins, binrange=[0,12000]);"
   ]
  },
  {
   "cell_type": "code",
   "execution_count": 7,
   "metadata": {},
   "outputs": [
    {
     "data": {
      "image/png": "[encoded data removed]",
      "text/plain": [
       "<Figure size 640x480 with 1 Axes>"
      ]
     },
     "metadata": {},
     "output_type": "display_data"
    }
   ],
   "source": [
    "sns.histplot(df.total_checkins, binrange=[0,2000]);"
   ]
  },
  {
   "cell_type": "code",
   "execution_count": 6,
   "metadata": {},
   "outputs": [
    {
     "data": {
      "image/png": "[encoded data removed]",
      "text/plain": [
       "<Figure size 640x480 with 1 Axes>"
      ]
     },
     "metadata": {},
     "output_type": "display_data"
    }
   ],
   "source": [
    "sns.histplot(df.total_beers, binrange=[0,12000]);"
   ]
  },
  {
   "cell_type": "code",
   "execution_count": null,
   "metadata": {},
   "outputs": [],
   "source": []
  }
 ],
 "metadata": {
  "kernelspec": {
   "display_name": "tip",
   "language": "python",
   "name": "python3"
  },
  "language_info": {
   "codemirror_mode": {
    "name": "ipython",
    "version": 3
   },
   "file_extension": ".py",
   "mimetype": "text/x-python",
   "name": "python",
   "nbconvert_exporter": "python",
   "pygments_lexer": "ipython3",
   "version": "3.10.8"
  },
  "orig_nbformat": 4,
  "vscode": {
   "interpreter": {
    "hash": "a4742bdb95c61f07b41efcb0629a17e6021c67c11b36603422976b6a87b48c32"
   }
  }
 },
 "nbformat": 4,
 "nbformat_minor": 2
}
